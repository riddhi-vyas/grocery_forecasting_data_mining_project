{
 "cells": [
  {
   "cell_type": "code",
   "execution_count": 2,
   "id": "b7747409-2787-4a02-adec-103433e1e09b",
   "metadata": {},
   "outputs": [],
   "source": [
    "import pandas as pd"
   ]
  },
  {
   "cell_type": "code",
   "execution_count": 4,
   "id": "43b46015-7868-440c-8bf2-f56ae27cee8f",
   "metadata": {},
   "outputs": [
    {
     "name": "stdout",
     "output_type": "stream",
     "text": [
      "Total rows in the file: 125497040\n"
     ]
    }
   ],
   "source": [
    "# train.csv file:\n",
    "# Get the total number of rows in the file\n",
    "total_rows = sum(1 for line in open('train.csv')) - 1  # Subtract 1 for the header\n",
    "print(f\"Total rows in the file: {total_rows}\")     "
   ]
  },
  {
   "cell_type": "code",
   "execution_count": 7,
   "id": "77674a13-1a49-46c9-8102-6c7765215873",
   "metadata": {},
   "outputs": [
    {
     "name": "stdout",
     "output_type": "stream",
     "text": [
      "         id       date  store_nbr  item_nbr  unit_sales onpromotion\n",
      "0  88042205 2016-08-15          1    103665         1.0       False\n",
      "1  88042206 2016-08-15          1    105574         1.0       False\n",
      "2  88042207 2016-08-15          1    105575        19.0       False\n",
      "3  88042208 2016-08-15          1    105577         1.0       False\n",
      "4  88042209 2016-08-15          1    105693         1.0       False\n",
      "Filtered data contains 37454835 rows.\n"
     ]
    }
   ],
   "source": [
    "# From train.csv file, we'll use specific date range(1 year)\n",
    "start_date = '2016-08-15'\n",
    "end_date = '2017-08-15'\n",
    "\n",
    "# Create an empty list to store filtered chunks\n",
    "filtered_chunks = []\n",
    "\n",
    "# Read and process the CSV in chunks\n",
    "chunk_size = 1000  # Adjust based on memory capacity\n",
    "for chunk in pd.read_csv('train.csv', chunksize=chunk_size, parse_dates=['date']):\n",
    "    # Filter rows within the date range\n",
    "    filtered_chunk = chunk[(chunk['date'] >= start_date) & (chunk['date'] <= end_date)]\n",
    "    filtered_chunks.append(filtered_chunk)\n",
    "\n",
    "# Combine all filtered chunks into a single DataFrame\n",
    "filtered_df = pd.concat(filtered_chunks, ignore_index=True)\n",
    "\n",
    "# Verify the result\n",
    "print(filtered_df.head())\n",
    "print(f\"Filtered data contains {len(filtered_df)} rows.\")"
   ]
  },
  {
   "cell_type": "code",
   "execution_count": 15,
   "id": "1a15159d-52bd-477e-b553-24d48867d873",
   "metadata": {},
   "outputs": [],
   "source": [
    "filtered_df.to_csv('filtered_train.csv', index=False)"
   ]
  },
  {
   "cell_type": "code",
   "execution_count": null,
   "id": "cab31e57-f2b8-42d7-92a8-21f1d815b849",
   "metadata": {},
   "outputs": [],
   "source": []
  }
 ],
 "metadata": {
  "kernelspec": {
   "display_name": "Python 3 (ipykernel)",
   "language": "python",
   "name": "python3"
  },
  "language_info": {
   "codemirror_mode": {
    "name": "ipython",
    "version": 3
   },
   "file_extension": ".py",
   "mimetype": "text/x-python",
   "name": "python",
   "nbconvert_exporter": "python",
   "pygments_lexer": "ipython3",
   "version": "3.11.0rc1"
  }
 },
 "nbformat": 4,
 "nbformat_minor": 5
}
